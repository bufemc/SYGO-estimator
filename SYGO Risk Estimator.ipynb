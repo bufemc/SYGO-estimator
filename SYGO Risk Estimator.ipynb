{
 "cells": [
  {
   "cell_type": "markdown",
   "metadata": {},
   "source": [
    "# So You're Going Outside: A Coronavirus Infection Risk Estimator For Leaving The House"
   ]
  },
  {
   "cell_type": "markdown",
   "metadata": {},
   "source": [
    "## A list of all parameters, total 9:\n",
    "\n",
    "**global:**\n",
    "* p_i = probability that any given person is infected.\n",
    "* p_{hu_vs} = probability that your hands are uninfected given that you touched a contaminated (with virus) surface\n",
    "* p_w = a catch-all term for wildcard fluctuations (fluid dynamics glitches, etc.) that were beyond the scope of this model.\n",
    "\n",
    "\n",
    "**situation-specific:**\n",
    "\n",
    "*surfaces:*\n",
    "* N_s = number of surfaces you touch while outside\n",
    "* N_p_s = average number of people that touched the surfaces you're touching. \n",
    "\n",
    "*warm-body (diffusion + other people breathing)*\n",
    "* N_p_b = number of people that breathed on you\n",
    "* N_b = the number of breath events. could take it as different per person, but don't have to.\n",
    "* P_script = \"projectiness\" = 1 for a cough. estimated 0.5 for normal breathing and 0.1 for wearing a surgical mask. \n",
    "* r = the distance, in feet, that you're standing away from the breathing person"
   ]
  },
  {
   "cell_type": "code",
   "execution_count": 4,
   "metadata": {},
   "outputs": [],
   "source": [
    "from __future__ import division",
	"import numpy\n",
    "import scipy.stats\n"
   ]
  },
  {
   "cell_type": "code",
   "execution_count": 5,
   "metadata": {
    "scrolled": true
   },
   "outputs": [],
   "source": [
    "# define global parameters\n",
    "# p_i\n",
    "sf_population = 881549 # 2019 est: https://www.census.gov/quickfacts/sanfranciscocountycalifornia\n",
    "confirmed_corona_cases = 1137 # April 18, 2020. https://missionlocal.org/2020/04/18-daily-figures-on-sf-coronavirus-cases-confirmed-cases/\n",
    "confirmed_to_latent_multiplier = 10 # approximate, based on estimation of under-testing\n",
    "c2l_to_asymptomatic_multiplier = 0.18 # source: https://www.ncbi.nlm.nih.gov/pmc/articles/PMC7078829/ \n",
    "p_i = (confirmed_corona_cases \n",
    "       * confirmed_to_latent_multiplier\n",
    "       * c2l_to_asymptomatic_multiplier) / sf_population  \n",
    "\n",
    "p_hu_vs = 0.5 # a highly approximate Fermi estimate.\n",
    "p_w = 0.000001 # 10^-6, a highly approximate Fermi estimate.\n"
   ]
  },
  {
   "cell_type": "code",
   "execution_count": 10,
   "metadata": {},
   "outputs": [],
   "source": [
    "def SYGOestimator(N_s, N_p_s, N_p_b, N_b, r, projectiness=0.3, p_i=0.01, p_hu_vs = 0.5, p_w = 0.000001): \n",
    "    # surfaces\n",
    "    surface_component = 1 - (1 - p_hu_vs)*N_s*N_p_s*p_i\n",
    "    \n",
    "    # warm-body ppl breathing\n",
    "    radius_z_score = (1 / projectiness * r**2 - 18) / 6\n",
    "    N_v_below_T_c = scipy.stats.norm.cdf(radius_z_score)\n",
    "    ppl_breathing_component = 1 - (N_p_b * p_i) + p_i * N_p_b * N_v_below_T_c**N_b\n",
    "    #print(\"ppl breathing\")\n",
    "    #print(ppl_breathing_component)\n",
    "\n",
    "    # wildcard\n",
    "    wildcard_component = p_w * N_p_b / r**2\n",
    "    #print(\"wildcard_component\")\n",
    "    #print(wildcard_component)\n",
    "    \n",
    "    p_youre_infected = 1 - surface_component*ppl_breathing_component + wildcard_component\n",
    "    #print(\"p_youre_infected\")\n",
    "    #print(p_youre_infected)\n",
    "    return p_youre_infected\n",
    "    "
   ]
  },
  {
   "cell_type": "markdown",
   "metadata": {},
   "source": [
    "## What if the sidewalk is only 4 feet wide -- should I #stayHomeSaveLives?\n",
    "\n",
    "What if I pass N_p_b = (10, 30, 100) people and they (all cough on me, never cough on me but aren't wearing masks, all wear t-shirt masks, all wear surgical masks)? Corresponding to projectiness = (1, 0.5, 0.3, 0.1)."
   ]
  },
  {
   "cell_type": "code",
   "execution_count": 11,
   "metadata": {},
   "outputs": [
    {
     "name": "stdout",
     "output_type": "stream",
     "text": [
      "[[0.09495823453298283, 0.28487470359894845, 0.9495823453298281], [0.0029164159473066514, 0.008749247841920287, 0.029164159473067178], [6.25583201043014e-07, 1.8767496033510865e-06, 6.255832010874229e-06], [6.249999999999999e-07, 1.8749999999999998e-06, 6.2499999999999995e-06]]\n",
      "\n",
      "\n",
      "[[0.0004047007658397587, 0.0012141022975194983, 0.0040470076583982535], [2.7777777777777776e-07, 8.333333333333332e-07, 2.7777777777777775e-06], [2.7777777777777776e-07, 8.333333333333332e-07, 2.7777777777777775e-06], [2.7777777777777776e-07, 8.333333333333332e-07, 2.7777777777777775e-06]]\n"
     ]
    }
   ],
   "source": [
    "# situation-specific parameters\n",
    "N_s = 0 # walk-only: no touching\n",
    "N_p_s = 0 # walk-only: no touching\n",
    "\n",
    "r = 4\n",
    "N_b = 3 # assuming it takes you 4 breaths to pass someone\n",
    "N_p_b = [10, 30, 100]\n",
    "projectiness = [1, 0.5, 0.3, 0.1] \n",
    "\n",
    "results_grid_r4 = [[SYGOestimator(N_s, N_p_s, p_b, N_b, r, proj) for p_b in N_p_b] for proj in projectiness]\n",
    "\n",
    "results_grid_r6 = [[SYGOestimator(N_s, N_p_s, p_b, N_b, 6, proj) for p_b in N_p_b] for proj in projectiness]\n",
    "    \n",
    "print(results_grid_r4)\n",
    "print(\"\\n\")\n",
    "print(results_grid_r6)\n"
   ]
  },
  {
   "cell_type": "markdown",
   "metadata": {},
   "source": [
    "## How does \"riskiness of the hangout\" scale with \"length of the hangout\"?\n",
    "\n",
    "Let's try hangouts with different numbers of people: N_p_b = (1, 5, 20). And let N_b = (240, 960, 2880), corresponding to a 15min, 1hr, and 3hr hangout. Try this for projectiness = (1, 0.5, 0.3), corresponding to doomsday (every breath is a cough), just-talking, and talking-with-tshirt-masks. Assume you all stay 6-feet social-distanced."
   ]
  },
  {
   "cell_type": "code",
   "execution_count": 12,
   "metadata": {},
   "outputs": [
    {
     "name": "stdout",
     "output_type": "stream",
     "text": [
      "[[2.4980979147193146e-05, 0.00012490489573618776, 0.0007494293744169046, 0.0024980979147230893], [0.000642855079611404, 0.0032142753980571306, 0.019285652388342782, 0.0642855079611425], [0.0016868723855496869, 0.008434361927748544, 0.050606171566490936, 0.16868723855496956], [0.002274173030887538, 0.01137086515443758, 0.06822519092662505, 0.22741730308875016]]\n",
      "\n",
      "\n",
      "[[2.7777777777777777e-08, 1.3888888888888888e-07, 8.333333333333332e-07, 2.7777777777777775e-06], [2.7777777777777777e-08, 1.3888888888888888e-07, 8.333333333333332e-07, 2.7777777777777775e-06], [2.7777777777777777e-08, 1.3888888888888888e-07, 8.333333333333332e-07, 2.7777777777777775e-06], [2.7777777777777777e-08, 1.3888888888888888e-07, 8.333333333333332e-07, 2.7777777777777775e-06]]\n",
      "\n",
      "\n",
      "[[0.0023126376623862294, 0.011563188311931035, 0.06937912987158587, 0.23126376623861958], [0.00232170639395981, 0.01160853196979916, 0.06965119181879473, 0.2321706393959824], [0.00232170639395981, 0.01160853196979916, 0.06965119181879473, 0.2321706393959824], [0.00232170639395981, 0.01160853196979916, 0.06965119181879473, 0.2321706393959824]]\n"
     ]
    }
   ],
   "source": [
    "# situation-specific parameters\n",
    "N_s = 0 # hangout-only: no touching\n",
    "N_p_s = 0 # hangout-only: no touching\n",
    "\n",
    "r = 6\n",
    "N_b = [8, 240, 960, 2880] # 15min, 1 hour, 3 hours\n",
    "N_p_b = [1, 5, 30, 100]\n",
    "\n",
    "results_grid_p1 = [[SYGOestimator(N_s, N_p_s, p_b, b, r, 1, p_i=p_i) for p_b in N_p_b] for b in N_b]\n",
    "\n",
    "results_grid_p05 = [[SYGOestimator(N_s, N_p_s, p_b, b, r, 0.5, p_i=p_i) for p_b in N_p_b] for b in N_b]\n",
    "\n",
    "results_grid_p03 = [[SYGOestimator(N_s, N_p_s, p_b, b, 3, 0.5, p_i=p_i) for p_b in N_p_b] for b in N_b]\n",
    "    \n",
    "print(results_grid_p1)\n",
    "print(\"\\n\")\n",
    "print(results_grid_p05)\n",
    "print(\"\\n\")\n",
    "print(results_grid_p03)\n"
   ]
  },
  {
   "cell_type": "markdown",
   "metadata": {},
   "source": [
    "## How risky is going to Costco vs. going to the corner store?\n"
   ]
  },
  {
   "cell_type": "code",
   "execution_count": 13,
   "metadata": {},
   "outputs": [
    {
     "name": "stdout",
     "output_type": "stream",
     "text": [
      "[[0.0017412242399143295, 0.0017413353510254406, 0.001742029795469885, 0.0017550853510254405], [0.017411992399143074, 0.017412103510254184, 0.017412797954698626, 0.017425853510254184], [0.17411967399143127, 0.1741197851025424, 0.17412047954698684, 0.1741335351025424], [0.6268307541469302, 0.6268308652580413, 0.6268315597024858, 0.6268446152580414]]\n",
      "\n",
      "\n",
      "[[0.0019171088526179127, 0.0026207584145438007, 0.007018568176579603, 0.08969739170285358], [0.01758511650239285, 0.018277724026503194, 0.0226065210521927, 0.10398790513515484], [0.17426519300014248, 0.17484738014609869, 0.17848604980832436, 0.24689303945816762], [0.6268965251047524, 0.6271597200471519, 0.628804688437149, 0.6597300941690932]]\n",
      "\n",
      "\n",
      "[[0.0017412242399143295, 0.0017413353510254406, 0.001742029795469885, 0.0017550853510254405], [0.01392959947487008, 0.01392971058598119, 0.013930405030425636, 0.013943460585981192], [0.08705985088460447, 0.08705996199571558, 0.08706065644016003, 0.08707371199571558], [0.15670770937006587, 0.15670782048117698, 0.15670851492562143, 0.156721570481177]]\n",
      "\n",
      "\n"
     ]
    }
   ],
   "source": [
    "# situation-specific parameters\n",
    "# # surfaces\n",
    "num_items_bought = 20\n",
    "N_s = num_items_bought*2.5 + 100 # you have to touch each item at least twice. assume 100 misc touches as well\n",
    "\n",
    "N_people_foot_traffic = [10, 100, 1000, 3600] # everyone who was in the store since the last deep clean\n",
    "p_t = 0.001 # proportion of store surfaces touched by everyone in the store--assume constant store size\n",
    "p_t_arr = [0.001, 0.0008, 0.0005, 0.00025] # p_t but assume store size scales with increasing foot traffic\n",
    "\n",
    "N_p_s_fixed_vol = [p_t * n for n in N_people_foot_traffic]\n",
    "N_p_s_variable_vol = [p_t_arr[i] * N_people_foot_traffic[i] for i in range(4)]\n",
    "\n",
    "# # people breathing\n",
    "r = 6\n",
    "N_b = 8 \n",
    "N_p_b = [1, 5, 30, 500]\n",
    "\n",
    "# fixed-volume store, socially distant\n",
    "results_grid = [[SYGOestimator(N_s, p_s, p_b, N_b, r, 0.5, p_i) for p_b in N_p_b] for p_s in N_p_s_fixed_vol]\n",
    "print(results_grid)\n",
    "print(\"\\n\")\n",
    "\n",
    "# fixed-volume store; not socially distant\n",
    "results_grid_2 = [[SYGOestimator(N_s, p_s, p_b, N_b, 4, 0.5, p_i) for p_b in N_p_b] for p_s in N_p_s_fixed_vol]\n",
    "print(results_grid_2)\n",
    "print(\"\\n\")\n",
    "\n",
    "# volume of store scales with number of people; \n",
    "results_grid_3 = [[SYGOestimator(N_s, N_p_s_variable_vol[p_s], p_b, N_b, r, 0.5, p_i) for p_b in N_p_b] for p_s in range(len(N_p_s_variable_vol))]\n",
    "print(results_grid_3)\n",
    "print(\"\\n\")\n",
    "\n"
   ]
  },
  {
   "cell_type": "code",
   "execution_count": null,
   "metadata": {},
   "outputs": [],
   "source": []
  }
 ],
 "metadata": {
  "kernelspec": {
   "display_name": "Python 2",
   "language": "python",
   "name": "python2"
  },
  "language_info": {
   "codemirror_mode": {
    "name": "ipython",
    "version": 2
   },
   "file_extension": ".py",
   "mimetype": "text/x-python",
   "name": "python",
   "nbconvert_exporter": "python",
   "pygments_lexer": "ipython2",
   "version": "2.7.16"
  }
 },
 "nbformat": 4,
 "nbformat_minor": 2
}
